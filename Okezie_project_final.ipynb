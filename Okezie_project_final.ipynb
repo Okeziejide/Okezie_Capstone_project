{
 "cells": [
  {
   "cell_type": "code",
   "execution_count": 1,
   "id": "307a9907-7e62-4361-8627-045f8e61d9eb",
   "metadata": {},
   "outputs": [],
   "source": [
    "import pandas as pd\n",
    "import numpy as np\n",
    "\n",
    "import matplotlib.pyplot as plt\n",
    "import seaborn as sns\n",
    "import plotly.express as px\n",
    "import statsmodels.formula.api as smf\n",
    "\n",
    "import mysql.connector\n",
    "from mysql.connector import Error\n",
    "from IPython.display import clear_output"
   ]
  },
  {
   "cell_type": "code",
   "execution_count": null,
   "id": "7fb1c59f-097c-4358-80be-c8d652233fd9",
   "metadata": {},
   "outputs": [],
   "source": []
  },
  {
   "cell_type": "code",
   "execution_count": 2,
   "id": "b40552a7-f180-4576-8a0d-4b5553bfe5b2",
   "metadata": {},
   "outputs": [
    {
     "name": "stdout",
     "output_type": "stream",
     "text": [
      "Connected to database Northwind successfully\n"
     ]
    }
   ],
   "source": [
    "# set up the function for database connection\n",
    "\n",
    "def connect_database(user_name,host_name,db_name,db_password):\n",
    "    connection = None\n",
    "    try:\n",
    "        connection = mysql.connector.connect(\n",
    "            host = host_name,\n",
    "            user = user_name,\n",
    "            passwd = db_password,\n",
    "            database = db_name\n",
    "        )\n",
    "        print(f'Connected to database {db_name} successfully')\n",
    "\n",
    "    except Error as err:\n",
    "        print(f'Error: {err}')\n",
    "\n",
    "    return connection\n",
    "\n",
    "\n",
    "host_name = input()\n",
    "user_name = input()\n",
    "db_password = input()\n",
    "db_name =  input()\n",
    "\n",
    "clear_output()\n",
    "\n",
    "connection = connect_database(user_name,host_name,db_name,db_password)"
   ]
  },
  {
   "cell_type": "code",
   "execution_count": null,
   "id": "96461c2d-8d2c-46d4-ba00-d6b2de29bbf2",
   "metadata": {},
   "outputs": [],
   "source": []
  },
  {
   "cell_type": "code",
   "execution_count": 3,
   "id": "1894c042-a770-4210-9d7c-06aaab5b0fbc",
   "metadata": {},
   "outputs": [
    {
     "data": {
      "text/html": [
       "<div>\n",
       "<style scoped>\n",
       "    .dataframe tbody tr th:only-of-type {\n",
       "        vertical-align: middle;\n",
       "    }\n",
       "\n",
       "    .dataframe tbody tr th {\n",
       "        vertical-align: top;\n",
       "    }\n",
       "\n",
       "    .dataframe thead th {\n",
       "        text-align: right;\n",
       "    }\n",
       "</style>\n",
       "<table border=\"1\" class=\"dataframe\">\n",
       "  <thead>\n",
       "    <tr style=\"text-align: right;\">\n",
       "      <th></th>\n",
       "      <th>CompanyName</th>\n",
       "      <th>OrderID</th>\n",
       "      <th>Orderdate</th>\n",
       "      <th>ShippedDate</th>\n",
       "      <th>RequiredDate</th>\n",
       "      <th>Freight</th>\n",
       "      <th>Address</th>\n",
       "      <th>Quantity</th>\n",
       "      <th>DeliveryTime</th>\n",
       "    </tr>\n",
       "  </thead>\n",
       "  <tbody>\n",
       "    <tr>\n",
       "      <th>0</th>\n",
       "      <td>United Package</td>\n",
       "      <td>10271</td>\n",
       "      <td>1996-08-01</td>\n",
       "      <td>1996-08-30</td>\n",
       "      <td>1996-08-29</td>\n",
       "      <td>4.5400</td>\n",
       "      <td>P.O. Box 555</td>\n",
       "      <td>24</td>\n",
       "      <td>1</td>\n",
       "    </tr>\n",
       "    <tr>\n",
       "      <th>1</th>\n",
       "      <td>United Package</td>\n",
       "      <td>10483</td>\n",
       "      <td>1997-03-24</td>\n",
       "      <td>1997-04-25</td>\n",
       "      <td>1997-04-21</td>\n",
       "      <td>15.2800</td>\n",
       "      <td>305 - 14th Ave. S. Suite 3B</td>\n",
       "      <td>35</td>\n",
       "      <td>4</td>\n",
       "    </tr>\n",
       "    <tr>\n",
       "      <th>2</th>\n",
       "      <td>United Package</td>\n",
       "      <td>10483</td>\n",
       "      <td>1997-03-24</td>\n",
       "      <td>1997-04-25</td>\n",
       "      <td>1997-04-21</td>\n",
       "      <td>15.2800</td>\n",
       "      <td>305 - 14th Ave. S. Suite 3B</td>\n",
       "      <td>30</td>\n",
       "      <td>4</td>\n",
       "    </tr>\n",
       "    <tr>\n",
       "      <th>3</th>\n",
       "      <td>United Package</td>\n",
       "      <td>10545</td>\n",
       "      <td>1997-05-22</td>\n",
       "      <td>1997-06-26</td>\n",
       "      <td>1997-06-19</td>\n",
       "      <td>11.9200</td>\n",
       "      <td>12 Orchestra Terrace</td>\n",
       "      <td>10</td>\n",
       "      <td>7</td>\n",
       "    </tr>\n",
       "    <tr>\n",
       "      <th>4</th>\n",
       "      <td>Speedy Express</td>\n",
       "      <td>10596</td>\n",
       "      <td>1997-07-11</td>\n",
       "      <td>1997-08-12</td>\n",
       "      <td>1997-08-08</td>\n",
       "      <td>16.3400</td>\n",
       "      <td>305 - 14th Ave. S. Suite 3B</td>\n",
       "      <td>5</td>\n",
       "      <td>4</td>\n",
       "    </tr>\n",
       "    <tr>\n",
       "      <th>5</th>\n",
       "      <td>Speedy Express</td>\n",
       "      <td>10596</td>\n",
       "      <td>1997-07-11</td>\n",
       "      <td>1997-08-12</td>\n",
       "      <td>1997-08-08</td>\n",
       "      <td>16.3400</td>\n",
       "      <td>305 - 14th Ave. S. Suite 3B</td>\n",
       "      <td>24</td>\n",
       "      <td>4</td>\n",
       "    </tr>\n",
       "    <tr>\n",
       "      <th>6</th>\n",
       "      <td>Speedy Express</td>\n",
       "      <td>10596</td>\n",
       "      <td>1997-07-11</td>\n",
       "      <td>1997-08-12</td>\n",
       "      <td>1997-08-08</td>\n",
       "      <td>16.3400</td>\n",
       "      <td>305 - 14th Ave. S. Suite 3B</td>\n",
       "      <td>30</td>\n",
       "      <td>4</td>\n",
       "    </tr>\n",
       "    <tr>\n",
       "      <th>7</th>\n",
       "      <td>Speedy Express</td>\n",
       "      <td>10660</td>\n",
       "      <td>1997-09-08</td>\n",
       "      <td>1997-10-15</td>\n",
       "      <td>1997-10-06</td>\n",
       "      <td>111.2900</td>\n",
       "      <td>City Center Plaza 516 Main St.</td>\n",
       "      <td>21</td>\n",
       "      <td>9</td>\n",
       "    </tr>\n",
       "    <tr>\n",
       "      <th>8</th>\n",
       "      <td>United Package</td>\n",
       "      <td>10816</td>\n",
       "      <td>1998-01-06</td>\n",
       "      <td>1998-02-04</td>\n",
       "      <td>1998-02-03</td>\n",
       "      <td>719.7800</td>\n",
       "      <td>2732 Baker Blvd.</td>\n",
       "      <td>30</td>\n",
       "      <td>1</td>\n",
       "    </tr>\n",
       "    <tr>\n",
       "      <th>9</th>\n",
       "      <td>United Package</td>\n",
       "      <td>10816</td>\n",
       "      <td>1998-01-06</td>\n",
       "      <td>1998-02-04</td>\n",
       "      <td>1998-02-03</td>\n",
       "      <td>719.7800</td>\n",
       "      <td>2732 Baker Blvd.</td>\n",
       "      <td>20</td>\n",
       "      <td>1</td>\n",
       "    </tr>\n",
       "    <tr>\n",
       "      <th>10</th>\n",
       "      <td>Federal Shipping</td>\n",
       "      <td>10847</td>\n",
       "      <td>1998-01-22</td>\n",
       "      <td>1998-02-10</td>\n",
       "      <td>1998-02-05</td>\n",
       "      <td>487.5700</td>\n",
       "      <td>187 Suffolk Ln.</td>\n",
       "      <td>80</td>\n",
       "      <td>5</td>\n",
       "    </tr>\n",
       "    <tr>\n",
       "      <th>11</th>\n",
       "      <td>Federal Shipping</td>\n",
       "      <td>10847</td>\n",
       "      <td>1998-01-22</td>\n",
       "      <td>1998-02-10</td>\n",
       "      <td>1998-02-05</td>\n",
       "      <td>487.5700</td>\n",
       "      <td>187 Suffolk Ln.</td>\n",
       "      <td>12</td>\n",
       "      <td>5</td>\n",
       "    </tr>\n",
       "    <tr>\n",
       "      <th>12</th>\n",
       "      <td>Federal Shipping</td>\n",
       "      <td>10847</td>\n",
       "      <td>1998-01-22</td>\n",
       "      <td>1998-02-10</td>\n",
       "      <td>1998-02-05</td>\n",
       "      <td>487.5700</td>\n",
       "      <td>187 Suffolk Ln.</td>\n",
       "      <td>60</td>\n",
       "      <td>5</td>\n",
       "    </tr>\n",
       "    <tr>\n",
       "      <th>13</th>\n",
       "      <td>Federal Shipping</td>\n",
       "      <td>10847</td>\n",
       "      <td>1998-01-22</td>\n",
       "      <td>1998-02-10</td>\n",
       "      <td>1998-02-05</td>\n",
       "      <td>487.5700</td>\n",
       "      <td>187 Suffolk Ln.</td>\n",
       "      <td>36</td>\n",
       "      <td>5</td>\n",
       "    </tr>\n",
       "    <tr>\n",
       "      <th>14</th>\n",
       "      <td>Federal Shipping</td>\n",
       "      <td>10847</td>\n",
       "      <td>1998-01-22</td>\n",
       "      <td>1998-02-10</td>\n",
       "      <td>1998-02-05</td>\n",
       "      <td>487.5700</td>\n",
       "      <td>187 Suffolk Ln.</td>\n",
       "      <td>45</td>\n",
       "      <td>5</td>\n",
       "    </tr>\n",
       "    <tr>\n",
       "      <th>15</th>\n",
       "      <td>Federal Shipping</td>\n",
       "      <td>10847</td>\n",
       "      <td>1998-01-22</td>\n",
       "      <td>1998-02-10</td>\n",
       "      <td>1998-02-05</td>\n",
       "      <td>487.5700</td>\n",
       "      <td>187 Suffolk Ln.</td>\n",
       "      <td>55</td>\n",
       "      <td>5</td>\n",
       "    </tr>\n",
       "  </tbody>\n",
       "</table>\n",
       "</div>"
      ],
      "text/plain": [
       "         CompanyName  OrderID  Orderdate ShippedDate RequiredDate   Freight  \\\n",
       "0     United Package    10271 1996-08-01  1996-08-30   1996-08-29    4.5400   \n",
       "1     United Package    10483 1997-03-24  1997-04-25   1997-04-21   15.2800   \n",
       "2     United Package    10483 1997-03-24  1997-04-25   1997-04-21   15.2800   \n",
       "3     United Package    10545 1997-05-22  1997-06-26   1997-06-19   11.9200   \n",
       "4     Speedy Express    10596 1997-07-11  1997-08-12   1997-08-08   16.3400   \n",
       "5     Speedy Express    10596 1997-07-11  1997-08-12   1997-08-08   16.3400   \n",
       "6     Speedy Express    10596 1997-07-11  1997-08-12   1997-08-08   16.3400   \n",
       "7     Speedy Express    10660 1997-09-08  1997-10-15   1997-10-06  111.2900   \n",
       "8     United Package    10816 1998-01-06  1998-02-04   1998-02-03  719.7800   \n",
       "9     United Package    10816 1998-01-06  1998-02-04   1998-02-03  719.7800   \n",
       "10  Federal Shipping    10847 1998-01-22  1998-02-10   1998-02-05  487.5700   \n",
       "11  Federal Shipping    10847 1998-01-22  1998-02-10   1998-02-05  487.5700   \n",
       "12  Federal Shipping    10847 1998-01-22  1998-02-10   1998-02-05  487.5700   \n",
       "13  Federal Shipping    10847 1998-01-22  1998-02-10   1998-02-05  487.5700   \n",
       "14  Federal Shipping    10847 1998-01-22  1998-02-10   1998-02-05  487.5700   \n",
       "15  Federal Shipping    10847 1998-01-22  1998-02-10   1998-02-05  487.5700   \n",
       "\n",
       "                           Address  Quantity  DeliveryTime  \n",
       "0                     P.O. Box 555        24             1  \n",
       "1      305 - 14th Ave. S. Suite 3B        35             4  \n",
       "2      305 - 14th Ave. S. Suite 3B        30             4  \n",
       "3             12 Orchestra Terrace        10             7  \n",
       "4      305 - 14th Ave. S. Suite 3B         5             4  \n",
       "5      305 - 14th Ave. S. Suite 3B        24             4  \n",
       "6      305 - 14th Ave. S. Suite 3B        30             4  \n",
       "7   City Center Plaza 516 Main St.        21             9  \n",
       "8                 2732 Baker Blvd.        30             1  \n",
       "9                 2732 Baker Blvd.        20             1  \n",
       "10                 187 Suffolk Ln.        80             5  \n",
       "11                 187 Suffolk Ln.        12             5  \n",
       "12                 187 Suffolk Ln.        60             5  \n",
       "13                 187 Suffolk Ln.        36             5  \n",
       "14                 187 Suffolk Ln.        45             5  \n",
       "15                 187 Suffolk Ln.        55             5  "
      ]
     },
     "execution_count": 3,
     "metadata": {},
     "output_type": "execute_result"
    }
   ],
   "source": [
    "def read_query(query, connection):\n",
    "    result = None\n",
    "    cursor = connection.cursor()\n",
    "    try:\n",
    "        cursor.execute(query)\n",
    "        result = cursor.fetchall()\n",
    "    except Error as err:\n",
    "        print(f'Error: {err}')\n",
    "\n",
    "    return result\n",
    "\n",
    "test_query = '''\n",
    "SELECT\n",
    "    s.CompanyName,\n",
    "    o.OrderID,\n",
    "    o.orderDate,\n",
    "    o.ShippedDate,\n",
    "    o.RequiredDate,\n",
    "    o.freight,\n",
    "    c.address,\n",
    "    od.quantity, DATEDIFF(o.ShippedDate, o.RequiredDate) as DeliveryTime\n",
    "FROM\n",
    "    Orders o\n",
    "    JOIN `Order details` od ON o.OrderID = od.OrderID\n",
    "    JOIN Customers c ON o.CustomerID = c.CustomerID\n",
    "    JOIN Shippers s ON o.ShipVia = s.ShipperID\n",
    "    \n",
    "WHERE\n",
    "    o.ShippedDate > o.RequiredDate and o.ShipCountry = 'USA';\n",
    "'''\n",
    "\n",
    "data = read_query(query=test_query, connection=connection)\n",
    "\n",
    "data_list = []\n",
    "\n",
    "for row in data:\n",
    "    row = list(row)\n",
    "    data_list.append(row)\n",
    "\n",
    "late_df = pd.DataFrame(data=data_list, columns=['CompanyName', 'OrderID', 'Orderdate', 'ShippedDate', 'RequiredDate','Freight','Address', 'Quantity', 'DeliveryTime'])\n",
    "late_df"
   ]
  },
  {
   "cell_type": "code",
   "execution_count": 4,
   "id": "ae3ff3a0-32b1-4397-bab0-34568ef20c54",
   "metadata": {},
   "outputs": [
    {
     "name": "stdout",
     "output_type": "stream",
     "text": [
      "        CompanyName  AverageDeliveryTime\n",
      "0  Federal Shipping                 5.00\n",
      "1    Speedy Express                 5.25\n",
      "2    United Package                 3.00\n"
     ]
    }
   ],
   "source": [
    "# Calculate average delivery time for each shipping company\n",
    "average_delivery_time = late_df.groupby('CompanyName')['DeliveryTime'].mean().reset_index()\n",
    "average_delivery_time.columns = ['CompanyName', 'AverageDeliveryTime']\n",
    "\n",
    "# Display the average delivery time\n",
    "print(average_delivery_time)\n"
   ]
  },
  {
   "cell_type": "code",
   "execution_count": null,
   "id": "e0ade671-4e25-4ccd-bf64-d6b00a8b1174",
   "metadata": {},
   "outputs": [],
   "source": []
  },
  {
   "cell_type": "code",
   "execution_count": 5,
   "id": "f7e91521-73b3-45be-a292-56a52c3d1746",
   "metadata": {},
   "outputs": [],
   "source": [
    "# Handle missing values\n",
    "late_df.dropna(inplace=True)\n",
    "\n",
    "# Convert date columns to datetime\n",
    "late_df['RequiredDate'] = pd.to_datetime(late_df['RequiredDate'])\n",
    "late_df['ShippedDate'] = pd.to_datetime(late_df['ShippedDate'])\n"
   ]
  },
  {
   "cell_type": "code",
   "execution_count": 6,
   "id": "29d88f4f-9196-4688-b4e3-11e293938240",
   "metadata": {},
   "outputs": [
    {
     "name": "stdout",
     "output_type": "stream",
     "text": [
      "         CompanyName  OrderID  Orderdate ShippedDate RequiredDate   Freight  \\\n",
      "0     United Package    10271 1996-08-01  1996-08-30   1996-08-29    4.5400   \n",
      "1     United Package    10483 1997-03-24  1997-04-25   1997-04-21   15.2800   \n",
      "2     United Package    10483 1997-03-24  1997-04-25   1997-04-21   15.2800   \n",
      "3     United Package    10545 1997-05-22  1997-06-26   1997-06-19   11.9200   \n",
      "4     Speedy Express    10596 1997-07-11  1997-08-12   1997-08-08   16.3400   \n",
      "5     Speedy Express    10596 1997-07-11  1997-08-12   1997-08-08   16.3400   \n",
      "6     Speedy Express    10596 1997-07-11  1997-08-12   1997-08-08   16.3400   \n",
      "7     Speedy Express    10660 1997-09-08  1997-10-15   1997-10-06  111.2900   \n",
      "8     United Package    10816 1998-01-06  1998-02-04   1998-02-03  719.7800   \n",
      "9     United Package    10816 1998-01-06  1998-02-04   1998-02-03  719.7800   \n",
      "10  Federal Shipping    10847 1998-01-22  1998-02-10   1998-02-05  487.5700   \n",
      "11  Federal Shipping    10847 1998-01-22  1998-02-10   1998-02-05  487.5700   \n",
      "12  Federal Shipping    10847 1998-01-22  1998-02-10   1998-02-05  487.5700   \n",
      "13  Federal Shipping    10847 1998-01-22  1998-02-10   1998-02-05  487.5700   \n",
      "14  Federal Shipping    10847 1998-01-22  1998-02-10   1998-02-05  487.5700   \n",
      "15  Federal Shipping    10847 1998-01-22  1998-02-10   1998-02-05  487.5700   \n",
      "\n",
      "                           Address  Quantity  DeliveryTime  LateDelivery  \n",
      "0                     P.O. Box 555        24             1          True  \n",
      "1      305 - 14th Ave. S. Suite 3B        35             4          True  \n",
      "2      305 - 14th Ave. S. Suite 3B        30             4          True  \n",
      "3             12 Orchestra Terrace        10             7          True  \n",
      "4      305 - 14th Ave. S. Suite 3B         5             4          True  \n",
      "5      305 - 14th Ave. S. Suite 3B        24             4          True  \n",
      "6      305 - 14th Ave. S. Suite 3B        30             4          True  \n",
      "7   City Center Plaza 516 Main St.        21             9          True  \n",
      "8                 2732 Baker Blvd.        30             1          True  \n",
      "9                 2732 Baker Blvd.        20             1          True  \n",
      "10                 187 Suffolk Ln.        80             5          True  \n",
      "11                 187 Suffolk Ln.        12             5          True  \n",
      "12                 187 Suffolk Ln.        60             5          True  \n",
      "13                 187 Suffolk Ln.        36             5          True  \n",
      "14                 187 Suffolk Ln.        45             5          True  \n",
      "15                 187 Suffolk Ln.        55             5          True  \n"
     ]
    }
   ],
   "source": [
    "# Calculate late delivery (consider delivery time > 1 days as late for example)\n",
    "late_df['LateDelivery'] = late_df['DeliveryTime'] >= 1\n",
    "\n",
    "# Display the preprocessed DataFrame\n",
    "print(late_df.head(20))\n"
   ]
  },
  {
   "cell_type": "code",
   "execution_count": null,
   "id": "8c15d3a3-ce17-4929-93df-c79874e2bf9e",
   "metadata": {},
   "outputs": [],
   "source": []
  },
  {
   "cell_type": "code",
   "execution_count": 7,
   "id": "4600317e-f7c5-4ed9-9c4b-0b3b6c8787b1",
   "metadata": {},
   "outputs": [
    {
     "name": "stderr",
     "output_type": "stream",
     "text": [
      "C:\\Users\\Okezie\\anaconda3\\Lib\\site-packages\\seaborn\\_oldcore.py:1119: FutureWarning: use_inf_as_na option is deprecated and will be removed in a future version. Convert inf values to NaN before operating instead.\n",
      "  with pd.option_context('mode.use_inf_as_na', True):\n"
     ]
    },
    {
     "data": {
      "image/png": "[encoded data removed]",
      "text/plain": [
       "<Figure size 640x480 with 1 Axes>"
      ]
     },
     "metadata": {},
     "output_type": "display_data"
    }
   ],
   "source": [
    "# Visualize the distribution of Late Deliverys\n",
    "sns.histplot(late_df['DeliveryTime'], bins=30)\n",
    "plt.title('Distribution of Delivery Time')\n",
    "plt.xlabel('Delivery Time (days)')\n",
    "plt.ylabel('Frequency')\n",
    "plt.show()"
   ]
  },
  {
   "cell_type": "code",
   "execution_count": null,
   "id": "69576e2e-4672-4c7f-b996-dbdb6000fa47",
   "metadata": {},
   "outputs": [],
   "source": []
  },
  {
   "cell_type": "code",
   "execution_count": 8,
   "id": "d390146c-c773-4e5a-b91c-0fdbfa658e76",
   "metadata": {},
   "outputs": [
    {
     "data": {
      "image/png": "[encoded data removed]",
      "text/plain": [
       "<Figure size 1200x600 with 1 Axes>"
      ]
     },
     "metadata": {},
     "output_type": "display_data"
    }
   ],
   "source": [
    "plt.figure(figsize=(12, 6))\n",
    "sns.boxplot(data=late_df, x='CompanyName', y='DeliveryTime', palette=['blue', 'green', 'red','black'])\n",
    "plt.title('Delivery Time by Shipping Company')\n",
    "plt.xlabel('Shipping Company')\n",
    "plt.ylabel('Delivery Time (days)')\n",
    "plt.xticks(rotation=45)\n",
    "plt.show()\n"
   ]
  },
  {
   "cell_type": "code",
   "execution_count": null,
   "id": "b06fdaa4-dab7-448b-babc-d27496e849f3",
   "metadata": {},
   "outputs": [],
   "source": []
  },
  {
   "cell_type": "code",
   "execution_count": 9,
   "id": "d1a22a7c-3f3f-4fe7-b051-f37de8a146b9",
   "metadata": {},
   "outputs": [
    {
     "name": "stderr",
     "output_type": "stream",
     "text": [
      "C:\\Users\\Okezie\\anaconda3\\Lib\\site-packages\\seaborn\\_oldcore.py:1119: FutureWarning: use_inf_as_na option is deprecated and will be removed in a future version. Convert inf values to NaN before operating instead.\n",
      "  with pd.option_context('mode.use_inf_as_na', True):\n",
      "C:\\Users\\Okezie\\anaconda3\\Lib\\site-packages\\seaborn\\_oldcore.py:1119: FutureWarning: use_inf_as_na option is deprecated and will be removed in a future version. Convert inf values to NaN before operating instead.\n",
      "  with pd.option_context('mode.use_inf_as_na', True):\n",
      "C:\\Users\\Okezie\\anaconda3\\Lib\\site-packages\\seaborn\\_oldcore.py:1119: FutureWarning: use_inf_as_na option is deprecated and will be removed in a future version. Convert inf values to NaN before operating instead.\n",
      "  with pd.option_context('mode.use_inf_as_na', True):\n"
     ]
    },
    {
     "data": {
      "image/png": "[encoded data removed]",
      "text/plain": [
       "<Figure size 750x750 with 12 Axes>"
      ]
     },
     "metadata": {},
     "output_type": "display_data"
    }
   ],
   "source": [
    "# Pairplot to see relationships between numerical variables\n",
    "sns.pairplot(late_df[['DeliveryTime', 'Quantity', 'Freight']])\n",
    "plt.show()"
   ]
  },
  {
   "cell_type": "code",
   "execution_count": null,
   "id": "9da7a89b-9991-4d31-a25f-582a90182ab2",
   "metadata": {},
   "outputs": [],
   "source": []
  },
  {
   "cell_type": "code",
   "execution_count": 10,
   "id": "f0e5d124-1c76-47c1-b5be-79f7a04f4704",
   "metadata": {},
   "outputs": [
    {
     "name": "stdout",
     "output_type": "stream",
     "text": [
      "                            OLS Regression Results                            \n",
      "==============================================================================\n",
      "Dep. Variable:           DeliveryTime   R-squared:                       1.000\n",
      "Model:                            OLS   Adj. R-squared:                  1.000\n",
      "Method:                 Least Squares   F-statistic:                 1.811e+27\n",
      "Date:                Mon, 12 Aug 2024   Prob (F-statistic):          3.72e-108\n",
      "Time:                        15:04:43   Log-Likelihood:                 467.07\n",
      "No. Observations:                  16   AIC:                            -918.1\n",
      "Df Residuals:                       8   BIC:                            -912.0\n",
      "Df Model:                           7                                         \n",
      "Covariance Type:            nonrobust                                         \n",
      "=============================================================================================================\n",
      "                                                coef    std err          t      P>|t|      [0.025      0.975]\n",
      "-------------------------------------------------------------------------------------------------------------\n",
      "Intercept                                     3.0207   2.69e-14   1.12e+14      0.000       3.021       3.021\n",
      "CompanyName[T.Speedy Express]                 1.5972   1.87e-14   8.55e+13      0.000       1.597       1.597\n",
      "CompanyName[T.United Package]                 0.4337   2.08e-14   2.09e+13      0.000       0.434       0.434\n",
      "Address[T.187 Suffolk Ln.]                    0.9897    2.4e-14   4.12e+13      0.000       0.990       0.990\n",
      "Address[T.2732 Baker Blvd.]                  -1.2272   2.65e-14  -4.64e+13      0.000      -1.227      -1.227\n",
      "Address[T.305 - 14th Ave. S. Suite 3B]       -0.0241    2.5e-14  -9.64e+11      0.000      -0.024      -0.024\n",
      "Address[T.City Center Plaza 516 Main St.]     2.1910   2.76e-14   7.95e+13      0.000       2.191       2.191\n",
      "Address[T.P.O. Box 555]                      -2.4544   5.71e-14   -4.3e+13      0.000      -2.454      -2.454\n",
      "Freight[T.Decimal('11.9200')]                 3.5456   5.85e-14   6.06e+13      0.000       3.546       3.546\n",
      "Freight[T.Decimal('15.2800')]                 0.5697   3.37e-14   1.69e+13      0.000       0.570       0.570\n",
      "Freight[T.Decimal('16.3400')]                -0.5938   2.43e-14  -2.45e+13      0.000      -0.594      -0.594\n",
      "Freight[T.Decimal('111.2900')]                2.1910   2.76e-14   7.95e+13      0.000       2.191       2.191\n",
      "Freight[T.Decimal('487.5700')]                0.9897    2.4e-14   4.12e+13      0.000       0.990       0.990\n",
      "Freight[T.Decimal('719.7800')]               -1.2272   2.65e-14  -4.64e+13      0.000      -1.227      -1.227\n",
      "Quantity                                  -1.235e-15    1.3e-15     -0.952      0.369   -4.23e-15    1.76e-15\n",
      "==============================================================================\n",
      "Omnibus:                        4.118   Durbin-Watson:                   0.455\n",
      "Prob(Omnibus):                  0.128   Jarque-Bera (JB):                2.186\n",
      "Skew:                           0.888   Prob(JB):                        0.335\n",
      "Kurtosis:                       3.354   Cond. No.                     2.46e+19\n",
      "==============================================================================\n",
      "\n",
      "Notes:\n",
      "[1] Standard Errors assume that the covariance matrix of the errors is correctly specified.\n",
      "[2] The smallest eigenvalue is 3.74e-35. This might indicate that there are\n",
      "strong multicollinearity problems or that the design matrix is singular.\n"
     ]
    },
    {
     "name": "stderr",
     "output_type": "stream",
     "text": [
      "C:\\Users\\Okezie\\anaconda3\\Lib\\site-packages\\scipy\\stats\\_stats_py.py:1806: UserWarning: kurtosistest only valid for n>=20 ... continuing anyway, n=16\n",
      "  warnings.warn(\"kurtosistest only valid for n>=20 ... continuing \"\n"
     ]
    }
   ],
   "source": [
    "# EXPLORATORY ANALYSIS\n",
    "model = smf.ols('DeliveryTime ~ CompanyName + Address + Freight + Quantity', data=late_df).fit()\n",
    "print(model.summary())"
   ]
  },
  {
   "cell_type": "code",
   "execution_count": null,
   "id": "6b691637-89e1-404f-bb91-740ab1908028",
   "metadata": {},
   "outputs": [],
   "source": []
  },
  {
   "cell_type": "markdown",
   "id": "9d7168c1-0b7e-4f3f-9077-b24c08d186f2",
   "metadata": {},
   "source": [
    "# FINDING"
   ]
  },
  {
   "cell_type": "code",
   "execution_count": 11,
   "id": "ce1c8e40-9a7a-4e66-a471-d5255fa5e807",
   "metadata": {},
   "outputs": [
    {
     "data": {
      "text/plain": [
       "'\\nWhat We Are Looking At:\\n\\nDelivery Time: This is the time it takes for goods to be delivered.\\n\\nCompanies: Delivery services like Speedy Express, United Package, Federal Shipping.\\n\\nAddresses: These are different places where the goods are being delivered.\\n\\nFreight: This is the cost of delivering the goods.\\n\\nQuantity: This is the number of goods being delivered.\\n\\nIntercept: This is like the base time it takes for any delivery. Imagine this is the time it takes if nothing else changes.\\n\\nCompany Names:\\nSpeedy Express: If Speedy Express is delivering, it takes 1.6 days more than the base time.\\nUnited Package: If United Package is delivering, it takes 0.4 days more than the base time.\\n\\nAddresses:\\nDelivering to some places like \"City Center Plaza\" takes 2.2 days more.\\nDelivering to others like \"P.O. Box 555\" takes 2.5 days less.\\n\\nFreight (Cost):\\nSome costs make delivery time longer, like $11.92 increases it by 3.5 days.\\nOthers make it shorter, like $16.34 decreases it by 0.6 days.\\n\\nQuantity: The number of goods doesn\\'t significantly affect the delivery time.\\n\\nWhat the Numbers Mean:\\nThe R-squared value is almost 1 (1.000). This means the factors we looked at explain almost all the reasons why delivery time changes.\\nThe F-statistic is really high, meaning our findings are very strong and reliable.\\nP>|t| values are very small (close to 0), showing that these results are statistically significant, except for Quantity which isn\\'t as important.\\n\\nExtra Notes:\\nThere might be some issues like multicollinearity, meaning some factors are too similar to each other, but that\\'s something more technical.\\nIn Simple Terms:\\nWe found out which delivery companies, addresses, and freight costs make your goods arrive faster or slower. Some companies and addresses take longer,\\nwhile some make deliveries quicker. The cost of delivery also plays a big role. The quantity of goods ordered don\\'t change the time much.\\n'"
      ]
     },
     "execution_count": 11,
     "metadata": {},
     "output_type": "execute_result"
    }
   ],
   "source": [
    "\n",
    "\"\"\"\n",
    "What We Are Looking At:\n",
    "\n",
    "Delivery Time: This is the time it takes for goods to be delivered.\n",
    "\n",
    "Companies: Delivery services like Speedy Express, United Package, Federal Shipping.\n",
    "\n",
    "Addresses: These are different places where the goods are being delivered.\n",
    "\n",
    "Freight: This is the cost of delivering the goods.\n",
    "\n",
    "Quantity: This is the number of goods being delivered.\n",
    "\n",
    "Intercept: This is like the base time it takes for any delivery. Imagine this is the time it takes if nothing else changes.\n",
    "\n",
    "Company Names:\n",
    "Speedy Express: If Speedy Express is delivering, it takes 1.6 days more than the base time.\n",
    "United Package: If United Package is delivering, it takes 0.4 days more than the base time.\n",
    "\n",
    "Addresses:\n",
    "Delivering to some places like \"City Center Plaza\" takes 2.2 days more.\n",
    "Delivering to others like \"P.O. Box 555\" takes 2.5 days less.\n",
    "\n",
    "Freight (Cost):\n",
    "Some costs make delivery time longer, like $11.92 increases it by 3.5 days.\n",
    "Others make it shorter, like $16.34 decreases it by 0.6 days.\n",
    "\n",
    "Quantity: The number of goods doesn't significantly affect the delivery time.\n",
    "\n",
    "What the Numbers Mean:\n",
    "The R-squared value is almost 1 (1.000). This means the factors we looked at explain almost all the reasons why delivery time changes.\n",
    "The F-statistic is really high, meaning our findings are very strong and reliable.\n",
    "P>|t| values are very small (close to 0), showing that these results are statistically significant, except for Quantity which isn't as important.\n",
    "\n",
    "Extra Notes:\n",
    "There might be some issues like multicollinearity, meaning some factors are too similar to each other, but that's something more technical.\n",
    "In Simple Terms:\n",
    "We found out which delivery companies, addresses, and freight costs make your goods arrive faster or slower. Some companies and addresses take longer,\n",
    "while some make deliveries quicker. The cost of delivery also plays a big role. The quantity of goods ordered don't change the time much.\n",
    "\"\"\"\n"
   ]
  },
  {
   "cell_type": "code",
   "execution_count": null,
   "id": "0a7ade51-b95b-4a2b-82e6-6cb5a1530aaf",
   "metadata": {},
   "outputs": [],
   "source": []
  },
  {
   "cell_type": "markdown",
   "id": "cd06580e-3466-40bf-b66a-5606415b6a1b",
   "metadata": {},
   "source": [
    "## CONCLUSION:"
   ]
  },
  {
   "cell_type": "code",
   "execution_count": 12,
   "id": "db709a10-d810-4d96-b4c1-f6a016123d75",
   "metadata": {},
   "outputs": [
    {
     "data": {
      "text/plain": [
       "\" \\nthe average delivering days for the three shipping companies\\n\\n        CompanyName  AverageDeliveryTime\\n0  Federal Shipping                 5.00 days\\n1    Speedy Express                 5.25 days\\n2    United Package                 3.00 days\\n\\nThe United Package have lesser days while Speedy Express have the highest\\nCustomer's Address and freight cost have a big affect on late delivering while quantity ordered doesn't \\nsignificantly affect the delivery time.\\n\\n\""
      ]
     },
     "execution_count": 12,
     "metadata": {},
     "output_type": "execute_result"
    }
   ],
   "source": [
    "\"\"\" \n",
    "the average delivering days for the three shipping companies\n",
    "\n",
    "        CompanyName  AverageDeliveryTime\n",
    "0  Federal Shipping                 5.00 days\n",
    "1    Speedy Express                 5.25 days\n",
    "2    United Package                 3.00 days\n",
    "\n",
    "The United Package have lesser days while Speedy Express have the highest\n",
    "Customer's Address and freight cost have a big affect on late delivering while quantity ordered doesn't \n",
    "significantly affect the delivery time.\n",
    "\n",
    "\"\"\"\n"
   ]
  },
  {
   "cell_type": "code",
   "execution_count": null,
   "id": "5a6a5a3a-f333-4780-b184-7f55b73a28aa",
   "metadata": {},
   "outputs": [],
   "source": []
  }
 ],
 "metadata": {
  "kernelspec": {
   "display_name": "Python 3 (ipykernel)",
   "language": "python",
   "name": "python3"
  },
  "language_info": {
   "codemirror_mode": {
    "name": "ipython",
    "version": 3
   },
   "file_extension": ".py",
   "mimetype": "text/x-python",
   "name": "python",
   "nbconvert_exporter": "python",
   "pygments_lexer": "ipython3",
   "version": "3.11.7"
  }
 },
 "nbformat": 4,
 "nbformat_minor": 5
}
